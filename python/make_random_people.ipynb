{
 "cells": [
  {
   "cell_type": "markdown",
   "metadata": {},
   "source": [
    "# Make random people\n",
    "\n",
    "## Mission\n",
    "- Create X number random people\n",
    "- Export them to a JSON-formatted file"
   ]
  },
  {
   "cell_type": "markdown",
   "metadata": {},
   "source": [
    "## Initializations"
   ]
  },
  {
   "cell_type": "code",
   "execution_count": 26,
   "metadata": {},
   "outputs": [],
   "source": [
    "import json\n",
    "import random\n",
    "from faker import Faker\n",
    "faker = Faker()\n",
    "number_of_people = 23\n",
    "output_file_name = \"randomPeople.json\"\n"
   ]
  },
  {
   "cell_type": "markdown",
   "metadata": {},
   "source": [
    "## Make X random people\n"
   ]
  },
  {
   "cell_type": "code",
   "execution_count": 35,
   "metadata": {},
   "outputs": [
    {
     "name": "stdout",
     "output_type": "stream",
     "text": [
      "[5, 6, 4, 7, 4, 5, 5, 4, 5, 5, 4, 8]\n"
     ]
    }
   ],
   "source": [
    "random_person = \"Temporary person\"\n",
    "\n",
    "# for (x=0 ; x<23 ; x++)\n",
    "r = list(range(number_of_people))\n",
    "# print(r)\n",
    "random_people = []\n",
    "for x in range(number_of_people):\n",
    "    age = random.randint(20,29)\n",
    "    is_male = random.choice([True,False])\n",
    "    random_person = {\n",
    "        'first': faker.first_name(), \n",
    "        'last': faker.last_name(), \n",
    "        'email': faker.email(), \n",
    "        'age': age,\n",
    "        'gender': 'male' if is_male else 'female', \n",
    "        'imageUrl': 'http://placeholder.com/100/100'\n",
    "        }\n",
    "    random_people.append(random_person)\n",
    "\n",
    "# list comprehension\n",
    "only_females = [len(p['first']) for p in random_people if p['gender']=='female']\n",
    "             # [thing_selected for range_var in collection (condition)]\n",
    "# only_males = []\n",
    "# for person in random_people:\n",
    "#     if person['gender'] == 'male':\n",
    "#         only_males.append(person['first'])\n",
    "\n",
    "print(only_females)\n"
   ]
  },
  {
   "cell_type": "markdown",
   "metadata": {},
   "source": [
    "## Save people to a file"
   ]
  },
  {
   "cell_type": "code",
   "execution_count": 20,
   "metadata": {},
   "outputs": [],
   "source": [
    "with open(output_file_name, 'w') as fout:\n",
    "    fout.write(json.dumps(random_people, indent=2))"
   ]
  }
 ],
 "metadata": {
  "kernelspec": {
   "display_name": "base",
   "language": "python",
   "name": "python3"
  },
  "language_info": {
   "codemirror_mode": {
    "name": "ipython",
    "version": 3
   },
   "file_extension": ".py",
   "mimetype": "text/x-python",
   "name": "python",
   "nbconvert_exporter": "python",
   "pygments_lexer": "ipython3",
   "version": "3.11.8"
  }
 },
 "nbformat": 4,
 "nbformat_minor": 2
}
